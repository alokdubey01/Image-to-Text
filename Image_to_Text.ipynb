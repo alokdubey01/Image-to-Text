{
 "cells": [
  {
   "cell_type": "code",
   "execution_count": 17,
   "id": "429e6597",
   "metadata": {},
   "outputs": [],
   "source": [
    "import cv2\n",
    "import pytesseract\n",
    "# enter your tesseract path below\n",
    "pytesseract.pytesseract.tesseract_cmd = r\"C:\\Program Files (x86)\\Tesseract-OCR\\tesseract.exe\""
   ]
  },
  {
   "cell_type": "code",
   "execution_count": 22,
   "id": "914f169a",
   "metadata": {},
   "outputs": [],
   "source": [
    "# reading image\n",
    "img = cv2.imread(\"image.jpg\")\n",
    "# converting image to RGB\n",
    "img = cv2.cvtColor(img, cv2.COLOR_BGR2RGB)\n",
    "# resizing the window\n",
    "cv2.namedWindow('Output', cv2.WINDOW_NORMAL)\n",
    "cv2.resizeWindow('Output', 800, 500)\n",
    "# showing image\n",
    "cv2.imshow('Output', img)\n",
    "# displaying the windows\n",
    "cv2.waitKey(0)\n",
    "# closed all open display windows\n",
    "cv2.destroyAllWindows()"
   ]
  },
  {
   "cell_type": "code",
   "execution_count": 23,
   "id": "df6715bb",
   "metadata": {},
   "outputs": [
    {
     "name": "stdout",
     "output_type": "stream",
     "text": [
      "It was the best of\n",
      "times, it was the worst\n",
      "of times, it was the age\n",
      "of wisdom, it was the\n",
      "age of foolishness...\n",
      "\n",
      "\n"
     ]
    }
   ],
   "source": [
    "texts = pytesseract.image_to_string(img)\n",
    "'''If you want to store your texts into a file then you can go with below'''\n",
    "#file = open(\"recognized.txt\", \"a\")\n",
    "#file.write(texts)\n",
    "#file.write(\"\\n\")\n",
    "print(texts)"
   ]
  },
  {
   "cell_type": "code",
   "execution_count": null,
   "id": "f332cd48",
   "metadata": {},
   "outputs": [],
   "source": []
  }
 ],
 "metadata": {
  "kernelspec": {
   "display_name": "Python 3 (ipykernel)",
   "language": "python",
   "name": "python3"
  },
  "language_info": {
   "codemirror_mode": {
    "name": "ipython",
    "version": 3
   },
   "file_extension": ".py",
   "mimetype": "text/x-python",
   "name": "python",
   "nbconvert_exporter": "python",
   "pygments_lexer": "ipython3",
   "version": "3.10.9"
  }
 },
 "nbformat": 4,
 "nbformat_minor": 5
}
